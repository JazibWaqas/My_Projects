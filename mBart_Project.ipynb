{
  "cells": [
    {
      "cell_type": "code",
      "execution_count": null,
      "metadata": {
        "colab": {
          "base_uri": "https://localhost:8080/"
        },
        "collapsed": true,
        "id": "mMXbaJ9-v9Gt",
        "outputId": "8ee6dcc1-e847-42cf-f88d-a47f1921cd17"
      },
      "outputs": [
        {
          "output_type": "stream",
          "name": "stdout",
          "text": [
            "Requirement already satisfied: transformers in /usr/local/lib/python3.10/dist-packages (4.46.2)\n",
            "Collecting datasets\n",
            "  Downloading datasets-3.1.0-py3-none-any.whl.metadata (20 kB)\n",
            "Requirement already satisfied: torch in /usr/local/lib/python3.10/dist-packages (2.5.1+cu121)\n",
            "Requirement already satisfied: filelock in /usr/local/lib/python3.10/dist-packages (from transformers) (3.16.1)\n",
            "Requirement already satisfied: huggingface-hub<1.0,>=0.23.2 in /usr/local/lib/python3.10/dist-packages (from transformers) (0.26.2)\n",
            "Requirement already satisfied: numpy>=1.17 in /usr/local/lib/python3.10/dist-packages (from transformers) (1.26.4)\n",
            "Requirement already satisfied: packaging>=20.0 in /usr/local/lib/python3.10/dist-packages (from transformers) (24.2)\n",
            "Requirement already satisfied: pyyaml>=5.1 in /usr/local/lib/python3.10/dist-packages (from transformers) (6.0.2)\n",
            "Requirement already satisfied: regex!=2019.12.17 in /usr/local/lib/python3.10/dist-packages (from transformers) (2024.9.11)\n",
            "Requirement already satisfied: requests in /usr/local/lib/python3.10/dist-packages (from transformers) (2.32.3)\n",
            "Requirement already satisfied: safetensors>=0.4.1 in /usr/local/lib/python3.10/dist-packages (from transformers) (0.4.5)\n",
            "Requirement already satisfied: tokenizers<0.21,>=0.20 in /usr/local/lib/python3.10/dist-packages (from transformers) (0.20.3)\n",
            "Requirement already satisfied: tqdm>=4.27 in /usr/local/lib/python3.10/dist-packages (from transformers) (4.66.6)\n",
            "Requirement already satisfied: pyarrow>=15.0.0 in /usr/local/lib/python3.10/dist-packages (from datasets) (17.0.0)\n",
            "Collecting dill<0.3.9,>=0.3.0 (from datasets)\n",
            "  Downloading dill-0.3.8-py3-none-any.whl.metadata (10 kB)\n",
            "Requirement already satisfied: pandas in /usr/local/lib/python3.10/dist-packages (from datasets) (2.2.2)\n",
            "Collecting xxhash (from datasets)\n",
            "  Downloading xxhash-3.5.0-cp310-cp310-manylinux_2_17_x86_64.manylinux2014_x86_64.whl.metadata (12 kB)\n",
            "Collecting multiprocess<0.70.17 (from datasets)\n",
            "  Downloading multiprocess-0.70.16-py310-none-any.whl.metadata (7.2 kB)\n",
            "Collecting fsspec<=2024.9.0,>=2023.1.0 (from fsspec[http]<=2024.9.0,>=2023.1.0->datasets)\n",
            "  Downloading fsspec-2024.9.0-py3-none-any.whl.metadata (11 kB)\n",
            "Requirement already satisfied: aiohttp in /usr/local/lib/python3.10/dist-packages (from datasets) (3.11.1)\n",
            "Requirement already satisfied: typing-extensions>=4.8.0 in /usr/local/lib/python3.10/dist-packages (from torch) (4.12.2)\n",
            "Requirement already satisfied: networkx in /usr/local/lib/python3.10/dist-packages (from torch) (3.4.2)\n",
            "Requirement already satisfied: jinja2 in /usr/local/lib/python3.10/dist-packages (from torch) (3.1.4)\n",
            "Requirement already satisfied: sympy==1.13.1 in /usr/local/lib/python3.10/dist-packages (from torch) (1.13.1)\n",
            "Requirement already satisfied: mpmath<1.4,>=1.1.0 in /usr/local/lib/python3.10/dist-packages (from sympy==1.13.1->torch) (1.3.0)\n",
            "Requirement already satisfied: aiohappyeyeballs>=2.3.0 in /usr/local/lib/python3.10/dist-packages (from aiohttp->datasets) (2.4.3)\n",
            "Requirement already satisfied: aiosignal>=1.1.2 in /usr/local/lib/python3.10/dist-packages (from aiohttp->datasets) (1.3.1)\n",
            "Requirement already satisfied: attrs>=17.3.0 in /usr/local/lib/python3.10/dist-packages (from aiohttp->datasets) (24.2.0)\n",
            "Requirement already satisfied: frozenlist>=1.1.1 in /usr/local/lib/python3.10/dist-packages (from aiohttp->datasets) (1.5.0)\n",
            "Requirement already satisfied: multidict<7.0,>=4.5 in /usr/local/lib/python3.10/dist-packages (from aiohttp->datasets) (6.1.0)\n",
            "Requirement already satisfied: propcache>=0.2.0 in /usr/local/lib/python3.10/dist-packages (from aiohttp->datasets) (0.2.0)\n",
            "Requirement already satisfied: yarl<2.0,>=1.17.0 in /usr/local/lib/python3.10/dist-packages (from aiohttp->datasets) (1.17.1)\n",
            "Requirement already satisfied: async-timeout<6.0,>=4.0 in /usr/local/lib/python3.10/dist-packages (from aiohttp->datasets) (4.0.3)\n",
            "Requirement already satisfied: charset-normalizer<4,>=2 in /usr/local/lib/python3.10/dist-packages (from requests->transformers) (3.4.0)\n",
            "Requirement already satisfied: idna<4,>=2.5 in /usr/local/lib/python3.10/dist-packages (from requests->transformers) (3.10)\n",
            "Requirement already satisfied: urllib3<3,>=1.21.1 in /usr/local/lib/python3.10/dist-packages (from requests->transformers) (2.2.3)\n",
            "Requirement already satisfied: certifi>=2017.4.17 in /usr/local/lib/python3.10/dist-packages (from requests->transformers) (2024.8.30)\n",
            "Requirement already satisfied: MarkupSafe>=2.0 in /usr/local/lib/python3.10/dist-packages (from jinja2->torch) (3.0.2)\n",
            "Requirement already satisfied: python-dateutil>=2.8.2 in /usr/local/lib/python3.10/dist-packages (from pandas->datasets) (2.8.2)\n",
            "Requirement already satisfied: pytz>=2020.1 in /usr/local/lib/python3.10/dist-packages (from pandas->datasets) (2024.2)\n",
            "Requirement already satisfied: tzdata>=2022.7 in /usr/local/lib/python3.10/dist-packages (from pandas->datasets) (2024.2)\n",
            "Requirement already satisfied: six>=1.5 in /usr/local/lib/python3.10/dist-packages (from python-dateutil>=2.8.2->pandas->datasets) (1.16.0)\n",
            "Downloading datasets-3.1.0-py3-none-any.whl (480 kB)\n",
            "\u001b[2K   \u001b[90m━━━━━━━━━━━━━━━━━━━━━━━━━━━━━━━━━━━━━━━━\u001b[0m \u001b[32m480.6/480.6 kB\u001b[0m \u001b[31m3.8 MB/s\u001b[0m eta \u001b[36m0:00:00\u001b[0m\n",
            "\u001b[?25hDownloading dill-0.3.8-py3-none-any.whl (116 kB)\n",
            "\u001b[2K   \u001b[90m━━━━━━━━━━━━━━━━━━━━━━━━━━━━━━━━━━━━━━━━\u001b[0m \u001b[32m116.3/116.3 kB\u001b[0m \u001b[31m10.2 MB/s\u001b[0m eta \u001b[36m0:00:00\u001b[0m\n",
            "\u001b[?25hDownloading fsspec-2024.9.0-py3-none-any.whl (179 kB)\n",
            "\u001b[2K   \u001b[90m━━━━━━━━━━━━━━━━━━━━━━━━━━━━━━━━━━━━━━━━\u001b[0m \u001b[32m179.3/179.3 kB\u001b[0m \u001b[31m15.3 MB/s\u001b[0m eta \u001b[36m0:00:00\u001b[0m\n",
            "\u001b[?25hDownloading multiprocess-0.70.16-py310-none-any.whl (134 kB)\n",
            "\u001b[2K   \u001b[90m━━━━━━━━━━━━━━━━━━━━━━━━━━━━━━━━━━━━━━━━\u001b[0m \u001b[32m134.8/134.8 kB\u001b[0m \u001b[31m12.2 MB/s\u001b[0m eta \u001b[36m0:00:00\u001b[0m\n",
            "\u001b[?25hDownloading xxhash-3.5.0-cp310-cp310-manylinux_2_17_x86_64.manylinux2014_x86_64.whl (194 kB)\n",
            "\u001b[2K   \u001b[90m━━━━━━━━━━━━━━━━━━━━━━━━━━━━━━━━━━━━━━━━\u001b[0m \u001b[32m194.1/194.1 kB\u001b[0m \u001b[31m16.9 MB/s\u001b[0m eta \u001b[36m0:00:00\u001b[0m\n",
            "\u001b[?25hInstalling collected packages: xxhash, fsspec, dill, multiprocess, datasets\n",
            "  Attempting uninstall: fsspec\n",
            "    Found existing installation: fsspec 2024.10.0\n",
            "    Uninstalling fsspec-2024.10.0:\n",
            "      Successfully uninstalled fsspec-2024.10.0\n",
            "\u001b[31mERROR: pip's dependency resolver does not currently take into account all the packages that are installed. This behaviour is the source of the following dependency conflicts.\n",
            "gcsfs 2024.10.0 requires fsspec==2024.10.0, but you have fsspec 2024.9.0 which is incompatible.\u001b[0m\u001b[31m\n",
            "\u001b[0mSuccessfully installed datasets-3.1.0 dill-0.3.8 fsspec-2024.9.0 multiprocess-0.70.16 xxhash-3.5.0\n"
          ]
        }
      ],
      "source": [
        "!pip install transformers datasets torch\n",
        "\n",
        "from transformers import MBartForConditionalGeneration, MBart50TokenizerFast, Trainer, TrainingArguments\n",
        "from datasets import load_dataset, Dataset\n",
        "import pandas as pd\n",
        "import numpy as np\n",
        "import torch\n",
        "from sklearn.model_selection import train_test_split\n",
        "from google.colab import drive"
      ]
    },
    {
      "cell_type": "code",
      "execution_count": null,
      "metadata": {
        "colab": {
          "base_uri": "https://localhost:8080/"
        },
        "id": "CTHOLqzRwVqe",
        "outputId": "5f874621-0d40-43fe-d26c-5f6c9404d200"
      },
      "outputs": [
        {
          "output_type": "stream",
          "name": "stdout",
          "text": [
            "Mounted at /content/drive\n"
          ]
        }
      ],
      "source": [
        "drive.mount('/content/drive')\n",
        "file_path = '/content/drive/MyDrive/Final_Golden_Data.xlsx'"
      ]
    },
    {
      "cell_type": "code",
      "execution_count": null,
      "metadata": {
        "id": "j6eDWsBCw9kL"
      },
      "outputs": [],
      "source": [
        "df = pd.read_excel(file_path)\n",
        "df = df[['text', 'summary']]"
      ]
    },
    {
      "cell_type": "code",
      "execution_count": null,
      "metadata": {
        "id": "KiDsvOLBxBmE"
      },
      "outputs": [],
      "source": [
        "train_df, test_df = train_test_split(df, test_size=0.1, random_state=42)\n",
        "\n",
        "train_dataset = Dataset.from_pandas(train_df)\n",
        "test_dataset = Dataset.from_pandas(test_df)"
      ]
    },
    {
      "cell_type": "code",
      "execution_count": null,
      "metadata": {
        "colab": {
          "base_uri": "https://localhost:8080/"
        },
        "id": "OLfrTs35xIZz",
        "outputId": "e6bcea09-0c89-47e4-894d-83463d6db1dd"
      },
      "outputs": [
        {
          "output_type": "stream",
          "name": "stdout",
          "text": [
            "Model and tokenizer loaded successfully from Google Drive.\n"
          ]
        }
      ],
      "source": [
        "# model_name = \"facebook/mbart-large-50-many-to-many-mmt\"\n",
        "# tokenizer = MBart50TokenizerFast.from_pretrained(model_name)\n",
        "# model = MBartForConditionalGeneration.from_pretrained(model_name)\n",
        "\n",
        "# tokenizer.src_lang = \"ur_PK\"\n",
        "# tokenizer.tgt_lang = \"ur_PK\"\n",
        "\n",
        "load_path = \"/content/drive/MyDrive/trained_on_Second25k\"\n",
        "\n",
        "# Load the saved model and tokenizer\n",
        "tokenizer = MBart50TokenizerFast.from_pretrained(load_path)\n",
        "model = MBartForConditionalGeneration.from_pretrained(load_path)\n",
        "\n",
        "\n",
        "# Set source and target languages\n",
        "tokenizer.src_lang = \"ur_PK\"\n",
        "tokenizer.tgt_lang = \"ur_PK\"\n",
        "\n",
        "print(\"Model and tokenizer loaded successfully from Google Drive.\")"
      ]
    },
    {
      "cell_type": "code",
      "execution_count": null,
      "metadata": {
        "id": "liVpWujzxXNR",
        "colab": {
          "base_uri": "https://localhost:8080/",
          "height": 81,
          "referenced_widgets": [
            "16ff03e0666f42878a8c08076bbf4b7f",
            "713477b7dea245fb92ab9cd85899384a",
            "ef9275ecade7444f857a03ec0086b386",
            "cd79fc85b2ef48dfa048dc8fecf96d37",
            "ad90e2641c8844dfa2b29c6fa59e3fdb",
            "25fd93f6b92c45feaf40425d98798776",
            "71972734b3584ae091446d79fb1fb5f2",
            "2444bd52b79242d0aada157a68e85016",
            "243093ddcd0e4cfd815f966b273e3ec3",
            "c478f7ce743c42b988957aeaf8026dd7",
            "272ae230a8604629a332ec72ac10b3a9",
            "32e90b98b57144ff98b50674255ae6f0",
            "1c0f7be094c64243930491e22485cdf8",
            "f07c23a6e92847e1a7b4243b30ebe637",
            "3a24e4186d2a450cb9cbec9ce5fcb769",
            "28d3348bd73b4b31b901719300a2d3ae",
            "b46220dec59e4367ac3ea78d6726ba9d",
            "82602823ae6442b99b7b1489a1b0ee4f",
            "3793ce730c37465bbeaae6a687989a85",
            "2a3a1aa2d9744269b95dec896857b929",
            "13e8609ce1934e769b1e870492d2f15b",
            "29fde49a41f94f6383ba9ed0ddab49f3"
          ]
        },
        "outputId": "3101297c-9ae3-4630-b766-24c8aba0d511"
      },
      "outputs": [
        {
          "output_type": "display_data",
          "data": {
            "text/plain": [
              "Map:   0%|          | 0/787 [00:00<?, ? examples/s]"
            ],
            "application/vnd.jupyter.widget-view+json": {
              "version_major": 2,
              "version_minor": 0,
              "model_id": "16ff03e0666f42878a8c08076bbf4b7f"
            }
          },
          "metadata": {}
        },
        {
          "output_type": "display_data",
          "data": {
            "text/plain": [
              "Map:   0%|          | 0/88 [00:00<?, ? examples/s]"
            ],
            "application/vnd.jupyter.widget-view+json": {
              "version_major": 2,
              "version_minor": 0,
              "model_id": "32e90b98b57144ff98b50674255ae6f0"
            }
          },
          "metadata": {}
        }
      ],
      "source": [
        "# # max_length = 1024\n",
        "\n",
        "# # def preprocess_data(examples):\n",
        "# #     # Ensure values are strings and replace NaN with an empty string for both text and summary\n",
        "# #     inputs = [str(text) if pd.notna(text) else \"\" for text in examples['text']]\n",
        "# #     targets = [str(summary) if pd.notna(summary) else \"\" for summary in examples['summary']]\n",
        "\n",
        "# #     # Tokenize inputs\n",
        "# #     model_inputs = tokenizer(inputs, max_length=max_length, truncation=True, padding=\"max_length\")\n",
        "\n",
        "# #     # Tokenize targets with the tokenizer as a target tokenizer\n",
        "# #     with tokenizer.as_target_tokenizer():\n",
        "# #         labels = tokenizer(targets, max_length=max_length, truncation=True, padding=\"max_length\")\n",
        "\n",
        "# #     # Add labels to model inputs\n",
        "# #     model_inputs[\"labels\"] = labels[\"input_ids\"]\n",
        "# #     return model_inputs\n",
        "\n",
        "# # # Tokenize datasets\n",
        "# # train_dataset = train_dataset.map(preprocess_data, batched=True)\n",
        "# # test_dataset = test_dataset.map(preprocess_data, batched=True)\n",
        "\n",
        "\n",
        "# max_length = 1024\n",
        "\n",
        "# def preprocess_data(examples):\n",
        "#     inputs = examples['text']\n",
        "#     targets = examples['summary']\n",
        "#     model_inputs = tokenizer(inputs, max_length=max_length, truncation=True, padding=\"max_length\")\n",
        "#     with tokenizer.as_target_tokenizer():\n",
        "#         labels = tokenizer(targets, max_length=max_length, truncation=True, padding=\"max_length\")\n",
        "\n",
        "#     model_inputs[\"labels\"] = labels[\"input_ids\"]\n",
        "#     return model_inputs\n",
        "\n",
        "# # Tokenize datasets\n",
        "# train_dataset = train_dataset.map(preprocess_data, batched=True)\n",
        "# test_dataset = test_dataset.map(preprocess_data, batched=True)\n",
        "\n",
        "\n",
        "max_length = 1024\n",
        "\n",
        "def preprocess_data(examples):\n",
        "    # Ensure all inputs and targets are strings and replace NaN with an empty string\n",
        "    inputs = [str(text) if pd.notna(text) else \"\" for text in examples[\"text\"]]\n",
        "    targets = [str(summary) if pd.notna(summary) else \"\" for summary in examples[\"summary\"]]\n",
        "\n",
        "    # Tokenize inputs\n",
        "    model_inputs = tokenizer(inputs, max_length=max_length, truncation=True, padding=\"max_length\")\n",
        "\n",
        "    # Tokenize targets using `text_target`\n",
        "    labels = tokenizer(text_target=targets, max_length=max_length, truncation=True, padding=\"max_length\")\n",
        "\n",
        "    # Add labels to model inputs\n",
        "    model_inputs[\"labels\"] = labels[\"input_ids\"]\n",
        "    return model_inputs\n",
        "\n",
        "# Tokenize datasets\n",
        "train_dataset = train_dataset.map(preprocess_data, batched=True)\n",
        "test_dataset = test_dataset.map(preprocess_data, batched=True)\n"
      ]
    },
    {
      "cell_type": "code",
      "execution_count": null,
      "metadata": {
        "id": "QvwQepJmxlRc",
        "colab": {
          "base_uri": "https://localhost:8080/"
        },
        "outputId": "e0eec50c-dcee-4d51-cb2b-cefde7cba479"
      },
      "outputs": [
        {
          "output_type": "stream",
          "name": "stderr",
          "text": [
            "/usr/local/lib/python3.10/dist-packages/transformers/training_args.py:1568: FutureWarning: `evaluation_strategy` is deprecated and will be removed in version 4.46 of 🤗 Transformers. Use `eval_strategy` instead\n",
            "  warnings.warn(\n"
          ]
        }
      ],
      "source": [
        "# from transformers import DataCollatorForSeq2Seq\n",
        "# from torch.utils.data import DataLoader\n",
        "\n",
        "# # batch_size = 2\n",
        "# # accumulation_steps = 8\n",
        "\n",
        "# # ---------------------------------------------------------------------------\n",
        "# # this is the new code for testing on a larger dataset\n",
        "# # Set batch size and max length for memory efficiency\n",
        "# batch_size = 4  # Try lowering to 2 if still out of memory\n",
        "# max_length = 1024\n",
        "\n",
        "# training_args = TrainingArguments(\n",
        "#     output_dir=\"./results\",\n",
        "#     evaluation_strategy=\"epoch\",\n",
        "#     learning_rate=5e-5,\n",
        "#     per_device_train_batch_size=batch_size,\n",
        "#     per_device_eval_batch_size=batch_size,\n",
        "#     gradient_accumulation_steps=4,  # Keep same effective batch size\n",
        "#     num_train_epochs=2,\n",
        "#     weight_decay=0.01,\n",
        "#     save_total_limit=2,  # Limit the number of checkpoints\n",
        "#     save_strategy=\"steps\",  # Save checkpoints every few steps (or use \"epoch\" to save per epoch)\n",
        "#     save_steps=500,  # Adjust to save checkpoint every 500 steps\n",
        "#     push_to_hub=False,\n",
        "#     fp16=True,\n",
        "# )\n",
        "\n",
        "# # Enable gradient checkpointing\n",
        "# model.gradient_checkpointing_enable()\n",
        "\n",
        "# # Run this just before training to free up memory\n",
        "# torch.cuda.empty_cache()\n",
        "\n",
        "# #  ----------------------------------------------------------------------------\n",
        "\n",
        "# data_collator = DataCollatorForSeq2Seq(tokenizer, model=model, padding=\"longest\")\n",
        "\n",
        "# train_dataloader = DataLoader(\n",
        "#     train_dataset, shuffle=True, collate_fn=data_collator, batch_size=batch_size\n",
        "# )\n",
        "# eval_dataloader = DataLoader(\n",
        "#     test_dataset, collate_fn=data_collator, batch_size=batch_size\n",
        "# )\n",
        "\n",
        "\n",
        "from transformers import DataCollatorForSeq2Seq\n",
        "from torch.utils.data import DataLoader\n",
        "import os\n",
        "\n",
        "output_dir = \"/content/drive/MyDrive/results\"\n",
        "os.makedirs(output_dir, exist_ok=True)\n",
        "\n",
        "# Set batch size and max length for memory efficiency\n",
        "batch_size = 4  # Try lowering to 2 if still out of memory\n",
        "max_length = 1024\n",
        "\n",
        "# Configure TrainingArguments\n",
        "training_args = TrainingArguments(\n",
        "    output_dir=output_dir,\n",
        "    evaluation_strategy=\"epoch\",\n",
        "    learning_rate=5e-5,\n",
        "    per_device_train_batch_size=batch_size,\n",
        "    per_device_eval_batch_size=batch_size,\n",
        "    gradient_accumulation_steps=4,  # Keep same effective batch size\n",
        "    num_train_epochs=3,\n",
        "    weight_decay=0.01,\n",
        "    save_total_limit=1,  # Limit the number of checkpoints\n",
        "    save_strategy=\"steps\",  # Save checkpoints every few steps (or use \"epoch\" to save per epoch)\n",
        "    save_steps=2000,  # Adjust to save checkpoint every 500 steps\n",
        "    push_to_hub=False,\n",
        "    fp16=True,\n",
        ")\n",
        "\n",
        "# Enable gradient checkpointing\n",
        "model.gradient_checkpointing_enable()\n",
        "\n",
        "# Run this just before training to free up memory\n",
        "torch.cuda.empty_cache()\n",
        "\n",
        "# ----------------------------------------------------------------------------\n",
        "data_collator = DataCollatorForSeq2Seq(tokenizer, model=model, padding=\"longest\")\n",
        "train_dataloader = DataLoader(train_dataset, shuffle=True, collate_fn=data_collator, batch_size=batch_size)\n",
        "eval_dataloader = DataLoader(test_dataset, collate_fn=data_collator, batch_size=batch_size)\n",
        "\n",
        "# # Find the latest checkpoint in the output directory\n",
        "# output_dir = \"/content/drive/MyDrive/results\"\n",
        "# checkpoints = [f for f in os.listdir(output_dir) if f.startswith(\"checkpoint\")]\n",
        "# checkpoints = sorted(checkpoints, key=lambda x: int(x.split(\"-\")[-1]))\n",
        "\n",
        "# # Check if any checkpoints exist\n",
        "# if checkpoints:\n",
        "#     last_checkpoint = os.path.join(output_dir, checkpoints[-1])\n",
        "#     print(f\"Found checkpoint: {last_checkpoint}\")\n",
        "# else:\n",
        "#     last_checkpoint = None\n",
        "#     print(\"No checkpoint found. Training from scratch.\")\n",
        "\n",
        "# import os\n",
        "# print(\"Current contents of './results':\", os.listdir(output_dir))\n"
      ]
    },
    {
      "cell_type": "code",
      "execution_count": null,
      "metadata": {
        "id": "A7olGLvfxpdl",
        "collapsed": true,
        "colab": {
          "base_uri": "https://localhost:8080/",
          "height": 467
        },
        "outputId": "fe693026-be8b-4905-ffd9-e27641f4cfb4"
      },
      "outputs": [
        {
          "output_type": "stream",
          "name": "stderr",
          "text": [
            "\u001b[34m\u001b[1mwandb\u001b[0m: \u001b[33mWARNING\u001b[0m The `run_name` is currently set to the same value as `TrainingArguments.output_dir`. If this was not intended, please specify a different run name by setting the `TrainingArguments.run_name` parameter.\n",
            "\u001b[34m\u001b[1mwandb\u001b[0m: Using wandb-core as the SDK backend.  Please refer to https://wandb.me/wandb-core for more information.\n"
          ]
        },
        {
          "output_type": "display_data",
          "data": {
            "text/plain": [
              "<IPython.core.display.Javascript object>"
            ],
            "application/javascript": [
              "\n",
              "        window._wandbApiKey = new Promise((resolve, reject) => {\n",
              "            function loadScript(url) {\n",
              "            return new Promise(function(resolve, reject) {\n",
              "                let newScript = document.createElement(\"script\");\n",
              "                newScript.onerror = reject;\n",
              "                newScript.onload = resolve;\n",
              "                document.body.appendChild(newScript);\n",
              "                newScript.src = url;\n",
              "            });\n",
              "            }\n",
              "            loadScript(\"https://cdn.jsdelivr.net/npm/postmate/build/postmate.min.js\").then(() => {\n",
              "            const iframe = document.createElement('iframe')\n",
              "            iframe.style.cssText = \"width:0;height:0;border:none\"\n",
              "            document.body.appendChild(iframe)\n",
              "            const handshake = new Postmate({\n",
              "                container: iframe,\n",
              "                url: 'https://wandb.ai/authorize'\n",
              "            });\n",
              "            const timeout = setTimeout(() => reject(\"Couldn't auto authenticate\"), 5000)\n",
              "            handshake.then(function(child) {\n",
              "                child.on('authorize', data => {\n",
              "                    clearTimeout(timeout)\n",
              "                    resolve(data)\n",
              "                });\n",
              "            });\n",
              "            })\n",
              "        });\n",
              "    "
            ]
          },
          "metadata": {}
        },
        {
          "output_type": "stream",
          "name": "stderr",
          "text": [
            "\u001b[34m\u001b[1mwandb\u001b[0m: Logging into wandb.ai. (Learn how to deploy a W&B server locally: https://wandb.me/wandb-server)\n",
            "\u001b[34m\u001b[1mwandb\u001b[0m: You can find your API key in your browser here: https://wandb.ai/authorize\n",
            "wandb: Paste an API key from your profile and hit enter, or press ctrl+c to quit:"
          ]
        },
        {
          "name": "stdout",
          "output_type": "stream",
          "text": [
            " ··········\n"
          ]
        },
        {
          "output_type": "stream",
          "name": "stderr",
          "text": [
            "\u001b[34m\u001b[1mwandb\u001b[0m: Appending key for api.wandb.ai to your netrc file: /root/.netrc\n"
          ]
        },
        {
          "output_type": "display_data",
          "data": {
            "text/plain": [
              "<IPython.core.display.HTML object>"
            ],
            "text/html": [
              "Tracking run with wandb version 0.18.7"
            ]
          },
          "metadata": {}
        },
        {
          "output_type": "display_data",
          "data": {
            "text/plain": [
              "<IPython.core.display.HTML object>"
            ],
            "text/html": [
              "Run data is saved locally in <code>/content/wandb/run-20241119_061508-lb0a7u03</code>"
            ]
          },
          "metadata": {}
        },
        {
          "output_type": "display_data",
          "data": {
            "text/plain": [
              "<IPython.core.display.HTML object>"
            ],
            "text/html": [
              "Syncing run <strong><a href='https://wandb.ai/hussainfarooqui74-habib-university/huggingface/runs/lb0a7u03' target=\"_blank\">/content/drive/MyDrive/results</a></strong> to <a href='https://wandb.ai/hussainfarooqui74-habib-university/huggingface' target=\"_blank\">Weights & Biases</a> (<a href='https://wandb.me/developer-guide' target=\"_blank\">docs</a>)<br/>"
            ]
          },
          "metadata": {}
        },
        {
          "output_type": "display_data",
          "data": {
            "text/plain": [
              "<IPython.core.display.HTML object>"
            ],
            "text/html": [
              " View project at <a href='https://wandb.ai/hussainfarooqui74-habib-university/huggingface' target=\"_blank\">https://wandb.ai/hussainfarooqui74-habib-university/huggingface</a>"
            ]
          },
          "metadata": {}
        },
        {
          "output_type": "display_data",
          "data": {
            "text/plain": [
              "<IPython.core.display.HTML object>"
            ],
            "text/html": [
              " View run at <a href='https://wandb.ai/hussainfarooqui74-habib-university/huggingface/runs/lb0a7u03' target=\"_blank\">https://wandb.ai/hussainfarooqui74-habib-university/huggingface/runs/lb0a7u03</a>"
            ]
          },
          "metadata": {}
        },
        {
          "output_type": "display_data",
          "data": {
            "text/plain": [
              "<IPython.core.display.HTML object>"
            ],
            "text/html": [
              "\n",
              "    <div>\n",
              "      \n",
              "      <progress value='147' max='147' style='width:300px; height:20px; vertical-align: middle;'></progress>\n",
              "      [147/147 03:07, Epoch 2/3]\n",
              "    </div>\n",
              "    <table border=\"1\" class=\"dataframe\">\n",
              "  <thead>\n",
              " <tr style=\"text-align: left;\">\n",
              "      <th>Epoch</th>\n",
              "      <th>Training Loss</th>\n",
              "      <th>Validation Loss</th>\n",
              "    </tr>\n",
              "  </thead>\n",
              "  <tbody>\n",
              "    <tr>\n",
              "      <td>0</td>\n",
              "      <td>No log</td>\n",
              "      <td>0.656588</td>\n",
              "    </tr>\n",
              "    <tr>\n",
              "      <td>1</td>\n",
              "      <td>No log</td>\n",
              "      <td>0.646117</td>\n",
              "    </tr>\n",
              "    <tr>\n",
              "      <td>2</td>\n",
              "      <td>No log</td>\n",
              "      <td>0.647871</td>\n",
              "    </tr>\n",
              "  </tbody>\n",
              "</table><p>"
            ]
          },
          "metadata": {}
        },
        {
          "output_type": "execute_result",
          "data": {
            "text/plain": [
              "TrainOutput(global_step=147, training_loss=0.5611212594168526, metrics={'train_runtime': 206.0667, 'train_samples_per_second': 11.457, 'train_steps_per_second': 0.713, 'total_flos': 5092754954649600.0, 'train_loss': 0.5611212594168526, 'epoch': 2.984771573604061})"
            ]
          },
          "metadata": {},
          "execution_count": 8
        }
      ],
      "source": [
        "# trainer = Trainer(\n",
        "#     model=model,\n",
        "#     args=training_args,\n",
        "#     train_dataset=train_dataset,\n",
        "#     eval_dataset=test_dataset,\n",
        "#     data_collator=data_collator,\n",
        "# )\n",
        "\n",
        "# # Step 5: Train the Model with Optimized Settings\n",
        "# trainer.train()\n",
        "\n",
        "from transformers import Trainer\n",
        "\n",
        "trainer = Trainer(\n",
        "    model=model,\n",
        "    args=training_args,\n",
        "    train_dataset=train_dataset,\n",
        "    eval_dataset=test_dataset,\n",
        "    data_collator=data_collator,\n",
        ")\n",
        "trainer.train()\n",
        "# # Train the model, resuming from last checkpoint if available\n",
        "# if last_checkpoint:\n",
        "#     trainer.train(resume_from_checkpoint=last_checkpoint)\n",
        "# else:\n",
        "#     trainer.train()"
      ]
    },
    {
      "cell_type": "code",
      "execution_count": null,
      "metadata": {
        "id": "_--iEwvSv0pI",
        "colab": {
          "base_uri": "https://localhost:8080/"
        },
        "outputId": "4fc50441-e513-465f-8cd1-de361261d277"
      },
      "outputs": [
        {
          "output_type": "stream",
          "name": "stdout",
          "text": [
            "Model and tokenizer saved to /content/drive/MyDrive/FinalTunedModel\n"
          ]
        }
      ],
      "source": [
        "# # Save the model and tokenizer\n",
        "# model.save_pretrained(\"/content/drive/My Drive/trained_on_5k\")\n",
        "# tokenizer.save_pretrained(\"/content/drive/My Drive/trained_on_5k\")\n",
        "\n",
        "# from google.colab import drive\n",
        "import os\n",
        "\n",
        "# Mount Google Drive (only needed if not mounted previously)\n",
        "# drive.mount('/content/drive')\n",
        "\n",
        "# Define save path and create directory if it doesn’t exist\n",
        "save_path = \"/content/drive/MyDrive/FinalTunedModel\"\n",
        "os.makedirs(save_path, exist_ok=True)\n",
        "\n",
        "# Save the model and tokenizer to the specified path\n",
        "model.save_pretrained(save_path)\n",
        "tokenizer.save_pretrained(save_path)\n",
        "print(f\"Model and tokenizer saved to {save_path}\")\n"
      ]
    },
    {
      "cell_type": "code",
      "execution_count": null,
      "metadata": {
        "id": "KdNSVTcd8UuS",
        "colab": {
          "base_uri": "https://localhost:8080/"
        },
        "outputId": "386e1d13-948a-4e9e-89d2-b9ceab4cc3bb"
      },
      "outputs": [
        {
          "output_type": "stream",
          "name": "stdout",
          "text": [
            "Summaries saved to /content/Final_testing_summaries.xlsx\n"
          ]
        }
      ],
      "source": [
        "# # Step 8: Evaluation - Generate Summaries for Test Data\n",
        "\n",
        "# def generate_summary(text):\n",
        "#     inputs = tokenizer(text, return_tensors=\"pt\", max_length=512, truncation=True).to(\"cuda\")\n",
        "#     summary_ids = model.generate(\n",
        "#         inputs[\"input_ids\"],\n",
        "#         max_length=512,  # Shorter summaries for coherence\n",
        "#         num_beams=5,  # More beams for diversity\n",
        "#         no_repeat_ngram_size=3,  # Avoid 3-gram repetition\n",
        "#         length_penalty=1.2,  # Penalize overly long outputs\n",
        "#         early_stopping=True\n",
        "#     )\n",
        "#     return tokenizer.decode(summary_ids[0], skip_special_tokens=True)\n",
        "\n",
        "# # ----------------------------------------------------------------------------------\n",
        "# # Move model to GPU\n",
        "# model.to(\"cuda\")\n",
        "\n",
        "# # Randomly sample 1000 rows from the test set\n",
        "# sampled_test_df = test_df.sample(n=500, random_state=42)\n",
        "\n",
        "# # List to store results\n",
        "# results = []\n",
        "\n",
        "# # Evaluate on the random samples from the test set\n",
        "# for _, row in sampled_test_df.iterrows():\n",
        "#     text = row['text']\n",
        "#     reference_summary = row['summary']\n",
        "#     generated_summary = generate_summary(text)\n",
        "\n",
        "#     # Append the results as a dictionary\n",
        "#     results.append({\n",
        "#         \"Original Text\": text,\n",
        "#         \"Reference Summary\": reference_summary,\n",
        "#         \"Generated Summary\": generated_summary\n",
        "#     })\n",
        "\n",
        "# # Convert results to a DataFrame\n",
        "# results_df = pd.DataFrame(results)\n",
        "\n",
        "# # Save results to Excel\n",
        "# results_df.to_excel(\"/content/Final_testing_summaries.xlsx\", index=False)\n",
        "\n",
        "# print(\"Summaries saved to /content/Final_testing_summaries.xlsx\")\n",
        "# Step 8: Evaluation - Generate Summaries for Test Data\n",
        "\n",
        "def generate_summary(text):\n",
        "    inputs = tokenizer(text, return_tensors=\"pt\", max_length=512, truncation=True).to(\"cuda\")\n",
        "    summary_ids = model.generate(\n",
        "        inputs[\"input_ids\"],\n",
        "        max_length=512,  # Shorter summaries for coherence\n",
        "        num_beams=5,  # More beams for diversity\n",
        "        no_repeat_ngram_size=3,  # Avoid 3-gram repetition\n",
        "        length_penalty=1.2,  # Penalize overly long outputs\n",
        "        early_stopping=True\n",
        "    )\n",
        "    return tokenizer.decode(summary_ids[0], skip_special_tokens=True)\n",
        "\n",
        "# ----------------------------------------------------------------------------------\n",
        "# Move model to GPU\n",
        "model.to(\"cuda\")\n",
        "\n",
        "# List to store results\n",
        "results = []\n",
        "\n",
        "# Evaluate on the entire test set\n",
        "for _, row in test_df.iterrows():\n",
        "    text = row['text']\n",
        "    reference_summary = row['summary']\n",
        "    generated_summary = generate_summary(text)\n",
        "\n",
        "    # Append the results as a dictionary\n",
        "    results.append({\n",
        "        \"Original Text\": text,\n",
        "        \"Reference Summary\": reference_summary,\n",
        "        \"Generated Summary\": generated_summary\n",
        "    })\n",
        "\n",
        "# Convert results to a DataFrame\n",
        "results_df = pd.DataFrame(results)\n",
        "\n",
        "# Save results to Excel\n",
        "output_path = \"/content/Final_testing_summaries.xlsx\"\n",
        "results_df.to_excel(output_path, index=False)\n",
        "\n",
        "print(f\"Summaries saved to {output_path}\")\n"
      ]
    },
    {
      "cell_type": "code",
      "execution_count": null,
      "metadata": {
        "id": "ek_Z9rnf9mtn",
        "colab": {
          "base_uri": "https://localhost:8080/",
          "height": 34
        },
        "outputId": "716a5d00-b594-4505-d07f-a6a8c0ee06ee"
      },
      "outputs": [
        {
          "output_type": "display_data",
          "data": {
            "text/plain": [
              "<IPython.core.display.Javascript object>"
            ],
            "application/javascript": [
              "\n",
              "    async function download(id, filename, size) {\n",
              "      if (!google.colab.kernel.accessAllowed) {\n",
              "        return;\n",
              "      }\n",
              "      const div = document.createElement('div');\n",
              "      const label = document.createElement('label');\n",
              "      label.textContent = `Downloading \"${filename}\": `;\n",
              "      div.appendChild(label);\n",
              "      const progress = document.createElement('progress');\n",
              "      progress.max = size;\n",
              "      div.appendChild(progress);\n",
              "      document.body.appendChild(div);\n",
              "\n",
              "      const buffers = [];\n",
              "      let downloaded = 0;\n",
              "\n",
              "      const channel = await google.colab.kernel.comms.open(id);\n",
              "      // Send a message to notify the kernel that we're ready.\n",
              "      channel.send({})\n",
              "\n",
              "      for await (const message of channel.messages) {\n",
              "        // Send a message to notify the kernel that we're ready.\n",
              "        channel.send({})\n",
              "        if (message.buffers) {\n",
              "          for (const buffer of message.buffers) {\n",
              "            buffers.push(buffer);\n",
              "            downloaded += buffer.byteLength;\n",
              "            progress.value = downloaded;\n",
              "          }\n",
              "        }\n",
              "      }\n",
              "      const blob = new Blob(buffers, {type: 'application/binary'});\n",
              "      const a = document.createElement('a');\n",
              "      a.href = window.URL.createObjectURL(blob);\n",
              "      a.download = filename;\n",
              "      div.appendChild(a);\n",
              "      a.click();\n",
              "      div.remove();\n",
              "    }\n",
              "  "
            ]
          },
          "metadata": {}
        },
        {
          "output_type": "display_data",
          "data": {
            "text/plain": [
              "<IPython.core.display.Javascript object>"
            ],
            "application/javascript": [
              "download(\"download_a4e2d617-29e9-4554-a550-c9d017fcf8d9\", \"Final_testing_summaries.xlsx\", 468007)"
            ]
          },
          "metadata": {}
        }
      ],
      "source": [
        "# from google.colab import files\n",
        "# files.download(\"/content/summaries_20k_first_part.xlsx\")\n",
        "from google.colab import files\n",
        "files.download(\"/content/Final_testing_summaries.xlsx\")\n",
        "\n"
      ]
    }
  ],
  "metadata": {
    "colab": {
      "machine_shape": "hm",
      "provenance": [],
      "gpuType": "A100"
    },
    "kernelspec": {
      "display_name": "Python 3",
      "name": "python3"
    },
    "language_info": {
      "name": "python"
    },
    "accelerator": "GPU",
    "widgets": {
      "application/vnd.jupyter.widget-state+json": {
        "16ff03e0666f42878a8c08076bbf4b7f": {
          "model_module": "@jupyter-widgets/controls",
          "model_name": "HBoxModel",
          "model_module_version": "1.5.0",
          "state": {
            "_dom_classes": [],
            "_model_module": "@jupyter-widgets/controls",
            "_model_module_version": "1.5.0",
            "_model_name": "HBoxModel",
            "_view_count": null,
            "_view_module": "@jupyter-widgets/controls",
            "_view_module_version": "1.5.0",
            "_view_name": "HBoxView",
            "box_style": "",
            "children": [
              "IPY_MODEL_713477b7dea245fb92ab9cd85899384a",
              "IPY_MODEL_ef9275ecade7444f857a03ec0086b386",
              "IPY_MODEL_cd79fc85b2ef48dfa048dc8fecf96d37"
            ],
            "layout": "IPY_MODEL_ad90e2641c8844dfa2b29c6fa59e3fdb"
          }
        },
        "713477b7dea245fb92ab9cd85899384a": {
          "model_module": "@jupyter-widgets/controls",
          "model_name": "HTMLModel",
          "model_module_version": "1.5.0",
          "state": {
            "_dom_classes": [],
            "_model_module": "@jupyter-widgets/controls",
            "_model_module_version": "1.5.0",
            "_model_name": "HTMLModel",
            "_view_count": null,
            "_view_module": "@jupyter-widgets/controls",
            "_view_module_version": "1.5.0",
            "_view_name": "HTMLView",
            "description": "",
            "description_tooltip": null,
            "layout": "IPY_MODEL_25fd93f6b92c45feaf40425d98798776",
            "placeholder": "​",
            "style": "IPY_MODEL_71972734b3584ae091446d79fb1fb5f2",
            "value": "Map: 100%"
          }
        },
        "ef9275ecade7444f857a03ec0086b386": {
          "model_module": "@jupyter-widgets/controls",
          "model_name": "FloatProgressModel",
          "model_module_version": "1.5.0",
          "state": {
            "_dom_classes": [],
            "_model_module": "@jupyter-widgets/controls",
            "_model_module_version": "1.5.0",
            "_model_name": "FloatProgressModel",
            "_view_count": null,
            "_view_module": "@jupyter-widgets/controls",
            "_view_module_version": "1.5.0",
            "_view_name": "ProgressView",
            "bar_style": "success",
            "description": "",
            "description_tooltip": null,
            "layout": "IPY_MODEL_2444bd52b79242d0aada157a68e85016",
            "max": 787,
            "min": 0,
            "orientation": "horizontal",
            "style": "IPY_MODEL_243093ddcd0e4cfd815f966b273e3ec3",
            "value": 787
          }
        },
        "cd79fc85b2ef48dfa048dc8fecf96d37": {
          "model_module": "@jupyter-widgets/controls",
          "model_name": "HTMLModel",
          "model_module_version": "1.5.0",
          "state": {
            "_dom_classes": [],
            "_model_module": "@jupyter-widgets/controls",
            "_model_module_version": "1.5.0",
            "_model_name": "HTMLModel",
            "_view_count": null,
            "_view_module": "@jupyter-widgets/controls",
            "_view_module_version": "1.5.0",
            "_view_name": "HTMLView",
            "description": "",
            "description_tooltip": null,
            "layout": "IPY_MODEL_c478f7ce743c42b988957aeaf8026dd7",
            "placeholder": "​",
            "style": "IPY_MODEL_272ae230a8604629a332ec72ac10b3a9",
            "value": " 787/787 [00:01&lt;00:00, 624.43 examples/s]"
          }
        },
        "ad90e2641c8844dfa2b29c6fa59e3fdb": {
          "model_module": "@jupyter-widgets/base",
          "model_name": "LayoutModel",
          "model_module_version": "1.2.0",
          "state": {
            "_model_module": "@jupyter-widgets/base",
            "_model_module_version": "1.2.0",
            "_model_name": "LayoutModel",
            "_view_count": null,
            "_view_module": "@jupyter-widgets/base",
            "_view_module_version": "1.2.0",
            "_view_name": "LayoutView",
            "align_content": null,
            "align_items": null,
            "align_self": null,
            "border": null,
            "bottom": null,
            "display": null,
            "flex": null,
            "flex_flow": null,
            "grid_area": null,
            "grid_auto_columns": null,
            "grid_auto_flow": null,
            "grid_auto_rows": null,
            "grid_column": null,
            "grid_gap": null,
            "grid_row": null,
            "grid_template_areas": null,
            "grid_template_columns": null,
            "grid_template_rows": null,
            "height": null,
            "justify_content": null,
            "justify_items": null,
            "left": null,
            "margin": null,
            "max_height": null,
            "max_width": null,
            "min_height": null,
            "min_width": null,
            "object_fit": null,
            "object_position": null,
            "order": null,
            "overflow": null,
            "overflow_x": null,
            "overflow_y": null,
            "padding": null,
            "right": null,
            "top": null,
            "visibility": null,
            "width": null
          }
        },
        "25fd93f6b92c45feaf40425d98798776": {
          "model_module": "@jupyter-widgets/base",
          "model_name": "LayoutModel",
          "model_module_version": "1.2.0",
          "state": {
            "_model_module": "@jupyter-widgets/base",
            "_model_module_version": "1.2.0",
            "_model_name": "LayoutModel",
            "_view_count": null,
            "_view_module": "@jupyter-widgets/base",
            "_view_module_version": "1.2.0",
            "_view_name": "LayoutView",
            "align_content": null,
            "align_items": null,
            "align_self": null,
            "border": null,
            "bottom": null,
            "display": null,
            "flex": null,
            "flex_flow": null,
            "grid_area": null,
            "grid_auto_columns": null,
            "grid_auto_flow": null,
            "grid_auto_rows": null,
            "grid_column": null,
            "grid_gap": null,
            "grid_row": null,
            "grid_template_areas": null,
            "grid_template_columns": null,
            "grid_template_rows": null,
            "height": null,
            "justify_content": null,
            "justify_items": null,
            "left": null,
            "margin": null,
            "max_height": null,
            "max_width": null,
            "min_height": null,
            "min_width": null,
            "object_fit": null,
            "object_position": null,
            "order": null,
            "overflow": null,
            "overflow_x": null,
            "overflow_y": null,
            "padding": null,
            "right": null,
            "top": null,
            "visibility": null,
            "width": null
          }
        },
        "71972734b3584ae091446d79fb1fb5f2": {
          "model_module": "@jupyter-widgets/controls",
          "model_name": "DescriptionStyleModel",
          "model_module_version": "1.5.0",
          "state": {
            "_model_module": "@jupyter-widgets/controls",
            "_model_module_version": "1.5.0",
            "_model_name": "DescriptionStyleModel",
            "_view_count": null,
            "_view_module": "@jupyter-widgets/base",
            "_view_module_version": "1.2.0",
            "_view_name": "StyleView",
            "description_width": ""
          }
        },
        "2444bd52b79242d0aada157a68e85016": {
          "model_module": "@jupyter-widgets/base",
          "model_name": "LayoutModel",
          "model_module_version": "1.2.0",
          "state": {
            "_model_module": "@jupyter-widgets/base",
            "_model_module_version": "1.2.0",
            "_model_name": "LayoutModel",
            "_view_count": null,
            "_view_module": "@jupyter-widgets/base",
            "_view_module_version": "1.2.0",
            "_view_name": "LayoutView",
            "align_content": null,
            "align_items": null,
            "align_self": null,
            "border": null,
            "bottom": null,
            "display": null,
            "flex": null,
            "flex_flow": null,
            "grid_area": null,
            "grid_auto_columns": null,
            "grid_auto_flow": null,
            "grid_auto_rows": null,
            "grid_column": null,
            "grid_gap": null,
            "grid_row": null,
            "grid_template_areas": null,
            "grid_template_columns": null,
            "grid_template_rows": null,
            "height": null,
            "justify_content": null,
            "justify_items": null,
            "left": null,
            "margin": null,
            "max_height": null,
            "max_width": null,
            "min_height": null,
            "min_width": null,
            "object_fit": null,
            "object_position": null,
            "order": null,
            "overflow": null,
            "overflow_x": null,
            "overflow_y": null,
            "padding": null,
            "right": null,
            "top": null,
            "visibility": null,
            "width": null
          }
        },
        "243093ddcd0e4cfd815f966b273e3ec3": {
          "model_module": "@jupyter-widgets/controls",
          "model_name": "ProgressStyleModel",
          "model_module_version": "1.5.0",
          "state": {
            "_model_module": "@jupyter-widgets/controls",
            "_model_module_version": "1.5.0",
            "_model_name": "ProgressStyleModel",
            "_view_count": null,
            "_view_module": "@jupyter-widgets/base",
            "_view_module_version": "1.2.0",
            "_view_name": "StyleView",
            "bar_color": null,
            "description_width": ""
          }
        },
        "c478f7ce743c42b988957aeaf8026dd7": {
          "model_module": "@jupyter-widgets/base",
          "model_name": "LayoutModel",
          "model_module_version": "1.2.0",
          "state": {
            "_model_module": "@jupyter-widgets/base",
            "_model_module_version": "1.2.0",
            "_model_name": "LayoutModel",
            "_view_count": null,
            "_view_module": "@jupyter-widgets/base",
            "_view_module_version": "1.2.0",
            "_view_name": "LayoutView",
            "align_content": null,
            "align_items": null,
            "align_self": null,
            "border": null,
            "bottom": null,
            "display": null,
            "flex": null,
            "flex_flow": null,
            "grid_area": null,
            "grid_auto_columns": null,
            "grid_auto_flow": null,
            "grid_auto_rows": null,
            "grid_column": null,
            "grid_gap": null,
            "grid_row": null,
            "grid_template_areas": null,
            "grid_template_columns": null,
            "grid_template_rows": null,
            "height": null,
            "justify_content": null,
            "justify_items": null,
            "left": null,
            "margin": null,
            "max_height": null,
            "max_width": null,
            "min_height": null,
            "min_width": null,
            "object_fit": null,
            "object_position": null,
            "order": null,
            "overflow": null,
            "overflow_x": null,
            "overflow_y": null,
            "padding": null,
            "right": null,
            "top": null,
            "visibility": null,
            "width": null
          }
        },
        "272ae230a8604629a332ec72ac10b3a9": {
          "model_module": "@jupyter-widgets/controls",
          "model_name": "DescriptionStyleModel",
          "model_module_version": "1.5.0",
          "state": {
            "_model_module": "@jupyter-widgets/controls",
            "_model_module_version": "1.5.0",
            "_model_name": "DescriptionStyleModel",
            "_view_count": null,
            "_view_module": "@jupyter-widgets/base",
            "_view_module_version": "1.2.0",
            "_view_name": "StyleView",
            "description_width": ""
          }
        },
        "32e90b98b57144ff98b50674255ae6f0": {
          "model_module": "@jupyter-widgets/controls",
          "model_name": "HBoxModel",
          "model_module_version": "1.5.0",
          "state": {
            "_dom_classes": [],
            "_model_module": "@jupyter-widgets/controls",
            "_model_module_version": "1.5.0",
            "_model_name": "HBoxModel",
            "_view_count": null,
            "_view_module": "@jupyter-widgets/controls",
            "_view_module_version": "1.5.0",
            "_view_name": "HBoxView",
            "box_style": "",
            "children": [
              "IPY_MODEL_1c0f7be094c64243930491e22485cdf8",
              "IPY_MODEL_f07c23a6e92847e1a7b4243b30ebe637",
              "IPY_MODEL_3a24e4186d2a450cb9cbec9ce5fcb769"
            ],
            "layout": "IPY_MODEL_28d3348bd73b4b31b901719300a2d3ae"
          }
        },
        "1c0f7be094c64243930491e22485cdf8": {
          "model_module": "@jupyter-widgets/controls",
          "model_name": "HTMLModel",
          "model_module_version": "1.5.0",
          "state": {
            "_dom_classes": [],
            "_model_module": "@jupyter-widgets/controls",
            "_model_module_version": "1.5.0",
            "_model_name": "HTMLModel",
            "_view_count": null,
            "_view_module": "@jupyter-widgets/controls",
            "_view_module_version": "1.5.0",
            "_view_name": "HTMLView",
            "description": "",
            "description_tooltip": null,
            "layout": "IPY_MODEL_b46220dec59e4367ac3ea78d6726ba9d",
            "placeholder": "​",
            "style": "IPY_MODEL_82602823ae6442b99b7b1489a1b0ee4f",
            "value": "Map: 100%"
          }
        },
        "f07c23a6e92847e1a7b4243b30ebe637": {
          "model_module": "@jupyter-widgets/controls",
          "model_name": "FloatProgressModel",
          "model_module_version": "1.5.0",
          "state": {
            "_dom_classes": [],
            "_model_module": "@jupyter-widgets/controls",
            "_model_module_version": "1.5.0",
            "_model_name": "FloatProgressModel",
            "_view_count": null,
            "_view_module": "@jupyter-widgets/controls",
            "_view_module_version": "1.5.0",
            "_view_name": "ProgressView",
            "bar_style": "success",
            "description": "",
            "description_tooltip": null,
            "layout": "IPY_MODEL_3793ce730c37465bbeaae6a687989a85",
            "max": 88,
            "min": 0,
            "orientation": "horizontal",
            "style": "IPY_MODEL_2a3a1aa2d9744269b95dec896857b929",
            "value": 88
          }
        },
        "3a24e4186d2a450cb9cbec9ce5fcb769": {
          "model_module": "@jupyter-widgets/controls",
          "model_name": "HTMLModel",
          "model_module_version": "1.5.0",
          "state": {
            "_dom_classes": [],
            "_model_module": "@jupyter-widgets/controls",
            "_model_module_version": "1.5.0",
            "_model_name": "HTMLModel",
            "_view_count": null,
            "_view_module": "@jupyter-widgets/controls",
            "_view_module_version": "1.5.0",
            "_view_name": "HTMLView",
            "description": "",
            "description_tooltip": null,
            "layout": "IPY_MODEL_13e8609ce1934e769b1e870492d2f15b",
            "placeholder": "​",
            "style": "IPY_MODEL_29fde49a41f94f6383ba9ed0ddab49f3",
            "value": " 88/88 [00:00&lt;00:00, 561.09 examples/s]"
          }
        },
        "28d3348bd73b4b31b901719300a2d3ae": {
          "model_module": "@jupyter-widgets/base",
          "model_name": "LayoutModel",
          "model_module_version": "1.2.0",
          "state": {
            "_model_module": "@jupyter-widgets/base",
            "_model_module_version": "1.2.0",
            "_model_name": "LayoutModel",
            "_view_count": null,
            "_view_module": "@jupyter-widgets/base",
            "_view_module_version": "1.2.0",
            "_view_name": "LayoutView",
            "align_content": null,
            "align_items": null,
            "align_self": null,
            "border": null,
            "bottom": null,
            "display": null,
            "flex": null,
            "flex_flow": null,
            "grid_area": null,
            "grid_auto_columns": null,
            "grid_auto_flow": null,
            "grid_auto_rows": null,
            "grid_column": null,
            "grid_gap": null,
            "grid_row": null,
            "grid_template_areas": null,
            "grid_template_columns": null,
            "grid_template_rows": null,
            "height": null,
            "justify_content": null,
            "justify_items": null,
            "left": null,
            "margin": null,
            "max_height": null,
            "max_width": null,
            "min_height": null,
            "min_width": null,
            "object_fit": null,
            "object_position": null,
            "order": null,
            "overflow": null,
            "overflow_x": null,
            "overflow_y": null,
            "padding": null,
            "right": null,
            "top": null,
            "visibility": null,
            "width": null
          }
        },
        "b46220dec59e4367ac3ea78d6726ba9d": {
          "model_module": "@jupyter-widgets/base",
          "model_name": "LayoutModel",
          "model_module_version": "1.2.0",
          "state": {
            "_model_module": "@jupyter-widgets/base",
            "_model_module_version": "1.2.0",
            "_model_name": "LayoutModel",
            "_view_count": null,
            "_view_module": "@jupyter-widgets/base",
            "_view_module_version": "1.2.0",
            "_view_name": "LayoutView",
            "align_content": null,
            "align_items": null,
            "align_self": null,
            "border": null,
            "bottom": null,
            "display": null,
            "flex": null,
            "flex_flow": null,
            "grid_area": null,
            "grid_auto_columns": null,
            "grid_auto_flow": null,
            "grid_auto_rows": null,
            "grid_column": null,
            "grid_gap": null,
            "grid_row": null,
            "grid_template_areas": null,
            "grid_template_columns": null,
            "grid_template_rows": null,
            "height": null,
            "justify_content": null,
            "justify_items": null,
            "left": null,
            "margin": null,
            "max_height": null,
            "max_width": null,
            "min_height": null,
            "min_width": null,
            "object_fit": null,
            "object_position": null,
            "order": null,
            "overflow": null,
            "overflow_x": null,
            "overflow_y": null,
            "padding": null,
            "right": null,
            "top": null,
            "visibility": null,
            "width": null
          }
        },
        "82602823ae6442b99b7b1489a1b0ee4f": {
          "model_module": "@jupyter-widgets/controls",
          "model_name": "DescriptionStyleModel",
          "model_module_version": "1.5.0",
          "state": {
            "_model_module": "@jupyter-widgets/controls",
            "_model_module_version": "1.5.0",
            "_model_name": "DescriptionStyleModel",
            "_view_count": null,
            "_view_module": "@jupyter-widgets/base",
            "_view_module_version": "1.2.0",
            "_view_name": "StyleView",
            "description_width": ""
          }
        },
        "3793ce730c37465bbeaae6a687989a85": {
          "model_module": "@jupyter-widgets/base",
          "model_name": "LayoutModel",
          "model_module_version": "1.2.0",
          "state": {
            "_model_module": "@jupyter-widgets/base",
            "_model_module_version": "1.2.0",
            "_model_name": "LayoutModel",
            "_view_count": null,
            "_view_module": "@jupyter-widgets/base",
            "_view_module_version": "1.2.0",
            "_view_name": "LayoutView",
            "align_content": null,
            "align_items": null,
            "align_self": null,
            "border": null,
            "bottom": null,
            "display": null,
            "flex": null,
            "flex_flow": null,
            "grid_area": null,
            "grid_auto_columns": null,
            "grid_auto_flow": null,
            "grid_auto_rows": null,
            "grid_column": null,
            "grid_gap": null,
            "grid_row": null,
            "grid_template_areas": null,
            "grid_template_columns": null,
            "grid_template_rows": null,
            "height": null,
            "justify_content": null,
            "justify_items": null,
            "left": null,
            "margin": null,
            "max_height": null,
            "max_width": null,
            "min_height": null,
            "min_width": null,
            "object_fit": null,
            "object_position": null,
            "order": null,
            "overflow": null,
            "overflow_x": null,
            "overflow_y": null,
            "padding": null,
            "right": null,
            "top": null,
            "visibility": null,
            "width": null
          }
        },
        "2a3a1aa2d9744269b95dec896857b929": {
          "model_module": "@jupyter-widgets/controls",
          "model_name": "ProgressStyleModel",
          "model_module_version": "1.5.0",
          "state": {
            "_model_module": "@jupyter-widgets/controls",
            "_model_module_version": "1.5.0",
            "_model_name": "ProgressStyleModel",
            "_view_count": null,
            "_view_module": "@jupyter-widgets/base",
            "_view_module_version": "1.2.0",
            "_view_name": "StyleView",
            "bar_color": null,
            "description_width": ""
          }
        },
        "13e8609ce1934e769b1e870492d2f15b": {
          "model_module": "@jupyter-widgets/base",
          "model_name": "LayoutModel",
          "model_module_version": "1.2.0",
          "state": {
            "_model_module": "@jupyter-widgets/base",
            "_model_module_version": "1.2.0",
            "_model_name": "LayoutModel",
            "_view_count": null,
            "_view_module": "@jupyter-widgets/base",
            "_view_module_version": "1.2.0",
            "_view_name": "LayoutView",
            "align_content": null,
            "align_items": null,
            "align_self": null,
            "border": null,
            "bottom": null,
            "display": null,
            "flex": null,
            "flex_flow": null,
            "grid_area": null,
            "grid_auto_columns": null,
            "grid_auto_flow": null,
            "grid_auto_rows": null,
            "grid_column": null,
            "grid_gap": null,
            "grid_row": null,
            "grid_template_areas": null,
            "grid_template_columns": null,
            "grid_template_rows": null,
            "height": null,
            "justify_content": null,
            "justify_items": null,
            "left": null,
            "margin": null,
            "max_height": null,
            "max_width": null,
            "min_height": null,
            "min_width": null,
            "object_fit": null,
            "object_position": null,
            "order": null,
            "overflow": null,
            "overflow_x": null,
            "overflow_y": null,
            "padding": null,
            "right": null,
            "top": null,
            "visibility": null,
            "width": null
          }
        },
        "29fde49a41f94f6383ba9ed0ddab49f3": {
          "model_module": "@jupyter-widgets/controls",
          "model_name": "DescriptionStyleModel",
          "model_module_version": "1.5.0",
          "state": {
            "_model_module": "@jupyter-widgets/controls",
            "_model_module_version": "1.5.0",
            "_model_name": "DescriptionStyleModel",
            "_view_count": null,
            "_view_module": "@jupyter-widgets/base",
            "_view_module_version": "1.2.0",
            "_view_name": "StyleView",
            "description_width": ""
          }
        }
      }
    }
  },
  "nbformat": 4,
  "nbformat_minor": 0
}